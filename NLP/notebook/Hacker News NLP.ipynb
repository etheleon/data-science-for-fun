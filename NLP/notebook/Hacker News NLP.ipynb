{
 "cells": [
  {
   "cell_type": "code",
   "execution_count": 4,
   "metadata": {
    "collapsed": true
   },
   "outputs": [],
   "source": [
    "import pandas as pd"
   ]
  },
  {
   "cell_type": "code",
   "execution_count": 43,
   "metadata": {
    "collapsed": false
   },
   "outputs": [],
   "source": [
    "dataset = pd.read_csv(\"../data/hackernews.csv\", \n",
    "                   encoding = \"ISO-8859-1\", \n",
    "                   names=['id', 'created_at', 'created_at_i', 'author', 'points', 'url_hostname', 'num_comments', 'title'])"
   ]
  },
  {
   "cell_type": "code",
   "execution_count": 44,
   "metadata": {
    "collapsed": false
   },
   "outputs": [
    {
     "data": {
      "text/html": [
       "<div>\n",
       "<table border=\"1\" class=\"dataframe\">\n",
       "  <thead>\n",
       "    <tr style=\"text-align: right;\">\n",
       "      <th></th>\n",
       "      <th>id</th>\n",
       "      <th>created_at</th>\n",
       "      <th>created_at_i</th>\n",
       "      <th>author</th>\n",
       "      <th>points</th>\n",
       "      <th>url_hostname</th>\n",
       "      <th>num_comments</th>\n",
       "      <th>title</th>\n",
       "    </tr>\n",
       "  </thead>\n",
       "  <tbody>\n",
       "    <tr>\n",
       "      <th>0</th>\n",
       "      <td>9079978</td>\n",
       "      <td>2015-02-20T11:29:58.000Z</td>\n",
       "      <td>1424431798</td>\n",
       "      <td>Immortalin</td>\n",
       "      <td>2</td>\n",
       "      <td>NaN</td>\n",
       "      <td>0</td>\n",
       "      <td>Ask HN: Simple SaaS as first Golang web app?</td>\n",
       "    </tr>\n",
       "    <tr>\n",
       "      <th>1</th>\n",
       "      <td>9079983</td>\n",
       "      <td>2015-02-20T11:34:22.000Z</td>\n",
       "      <td>1424432062</td>\n",
       "      <td>Rutger24s</td>\n",
       "      <td>1</td>\n",
       "      <td>startupjuncture.com</td>\n",
       "      <td>0</td>\n",
       "      <td>24sessions: live business advice over video-chat</td>\n",
       "    </tr>\n",
       "    <tr>\n",
       "      <th>2</th>\n",
       "      <td>9079986</td>\n",
       "      <td>2015-02-20T11:35:32.000Z</td>\n",
       "      <td>1424432132</td>\n",
       "      <td>AndrewDucker</td>\n",
       "      <td>3</td>\n",
       "      <td>blog.erratasec.com</td>\n",
       "      <td>0</td>\n",
       "      <td>Some notes on SuperFish</td>\n",
       "    </tr>\n",
       "    <tr>\n",
       "      <th>3</th>\n",
       "      <td>9079988</td>\n",
       "      <td>2015-02-20T11:36:18.000Z</td>\n",
       "      <td>1424432178</td>\n",
       "      <td>davidiach</td>\n",
       "      <td>1</td>\n",
       "      <td>twitter.com</td>\n",
       "      <td>0</td>\n",
       "      <td>Apple Watch models could contain 29.16g of gold</td>\n",
       "    </tr>\n",
       "    <tr>\n",
       "      <th>4</th>\n",
       "      <td>9080000</td>\n",
       "      <td>2015-02-20T11:41:06.000Z</td>\n",
       "      <td>1424432466</td>\n",
       "      <td>CiaranR</td>\n",
       "      <td>1</td>\n",
       "      <td>phpconference.co.uk</td>\n",
       "      <td>0</td>\n",
       "      <td>PHP UK Conference Diversity Scholarship Programme</td>\n",
       "    </tr>\n",
       "  </tbody>\n",
       "</table>\n",
       "</div>"
      ],
      "text/plain": [
       "        id                created_at  created_at_i        author  points  \\\n",
       "0  9079978  2015-02-20T11:29:58.000Z    1424431798    Immortalin       2   \n",
       "1  9079983  2015-02-20T11:34:22.000Z    1424432062     Rutger24s       1   \n",
       "2  9079986  2015-02-20T11:35:32.000Z    1424432132  AndrewDucker       3   \n",
       "3  9079988  2015-02-20T11:36:18.000Z    1424432178     davidiach       1   \n",
       "4  9080000  2015-02-20T11:41:06.000Z    1424432466       CiaranR       1   \n",
       "\n",
       "          url_hostname  num_comments  \\\n",
       "0                  NaN             0   \n",
       "1  startupjuncture.com             0   \n",
       "2   blog.erratasec.com             0   \n",
       "3          twitter.com             0   \n",
       "4  phpconference.co.uk             0   \n",
       "\n",
       "                                               title  \n",
       "0       Ask HN: Simple SaaS as first Golang web app?  \n",
       "1   24sessions: live business advice over video-chat  \n",
       "2                            Some notes on SuperFish  \n",
       "3    Apple Watch models could contain 29.16g of gold  \n",
       "4  PHP UK Conference Diversity Scholarship Programme  "
      ]
     },
     "execution_count": 44,
     "metadata": {},
     "output_type": "execute_result"
    }
   ],
   "source": [
    "dataset.head()"
   ]
  },
  {
   "cell_type": "code",
   "execution_count": 45,
   "metadata": {
    "collapsed": false
   },
   "outputs": [
    {
     "data": {
      "text/plain": [
       "11004"
      ]
     },
     "execution_count": 45,
     "metadata": {},
     "output_type": "execute_result"
    }
   ],
   "source": [
    "len(dataset)"
   ]
  },
  {
   "cell_type": "code",
   "execution_count": 46,
   "metadata": {
    "collapsed": true
   },
   "outputs": [],
   "source": [
    "dataset.drop(['id', 'created_at_i', 'author', 'num_comments'],inplace=True,axis=1)"
   ]
  },
  {
   "cell_type": "code",
   "execution_count": 47,
   "metadata": {
    "collapsed": false
   },
   "outputs": [
    {
     "data": {
      "text/html": [
       "<div>\n",
       "<table border=\"1\" class=\"dataframe\">\n",
       "  <thead>\n",
       "    <tr style=\"text-align: right;\">\n",
       "      <th></th>\n",
       "      <th>created_at</th>\n",
       "      <th>points</th>\n",
       "      <th>url_hostname</th>\n",
       "      <th>title</th>\n",
       "    </tr>\n",
       "  </thead>\n",
       "  <tbody>\n",
       "    <tr>\n",
       "      <th>0</th>\n",
       "      <td>2015-02-20T11:29:58.000Z</td>\n",
       "      <td>2</td>\n",
       "      <td>NaN</td>\n",
       "      <td>Ask HN: Simple SaaS as first Golang web app?</td>\n",
       "    </tr>\n",
       "    <tr>\n",
       "      <th>1</th>\n",
       "      <td>2015-02-20T11:34:22.000Z</td>\n",
       "      <td>1</td>\n",
       "      <td>startupjuncture.com</td>\n",
       "      <td>24sessions: live business advice over video-chat</td>\n",
       "    </tr>\n",
       "    <tr>\n",
       "      <th>2</th>\n",
       "      <td>2015-02-20T11:35:32.000Z</td>\n",
       "      <td>3</td>\n",
       "      <td>blog.erratasec.com</td>\n",
       "      <td>Some notes on SuperFish</td>\n",
       "    </tr>\n",
       "    <tr>\n",
       "      <th>3</th>\n",
       "      <td>2015-02-20T11:36:18.000Z</td>\n",
       "      <td>1</td>\n",
       "      <td>twitter.com</td>\n",
       "      <td>Apple Watch models could contain 29.16g of gold</td>\n",
       "    </tr>\n",
       "    <tr>\n",
       "      <th>4</th>\n",
       "      <td>2015-02-20T11:41:06.000Z</td>\n",
       "      <td>1</td>\n",
       "      <td>phpconference.co.uk</td>\n",
       "      <td>PHP UK Conference Diversity Scholarship Programme</td>\n",
       "    </tr>\n",
       "  </tbody>\n",
       "</table>\n",
       "</div>"
      ],
      "text/plain": [
       "                 created_at  points         url_hostname  \\\n",
       "0  2015-02-20T11:29:58.000Z       2                  NaN   \n",
       "1  2015-02-20T11:34:22.000Z       1  startupjuncture.com   \n",
       "2  2015-02-20T11:35:32.000Z       3   blog.erratasec.com   \n",
       "3  2015-02-20T11:36:18.000Z       1          twitter.com   \n",
       "4  2015-02-20T11:41:06.000Z       1  phpconference.co.uk   \n",
       "\n",
       "                                               title  \n",
       "0       Ask HN: Simple SaaS as first Golang web app?  \n",
       "1   24sessions: live business advice over video-chat  \n",
       "2                            Some notes on SuperFish  \n",
       "3    Apple Watch models could contain 29.16g of gold  \n",
       "4  PHP UK Conference Diversity Scholarship Programme  "
      ]
     },
     "execution_count": 47,
     "metadata": {},
     "output_type": "execute_result"
    }
   ],
   "source": [
    "dataset.head()"
   ]
  },
  {
   "cell_type": "code",
   "execution_count": 48,
   "metadata": {
    "collapsed": true
   },
   "outputs": [],
   "source": [
    "dataset.rename(columns={'created_at': 'submission_time', 'url_hostname': 'url', 'points': 'upvotes', 'title': 'headline'}, inplace=True)"
   ]
  },
  {
   "cell_type": "code",
   "execution_count": 49,
   "metadata": {
    "collapsed": false
   },
   "outputs": [],
   "source": [
    "dataset.to_csv('../data/pre_process_hn.csv')"
   ]
  },
  {
   "cell_type": "code",
   "execution_count": 1,
   "metadata": {
    "collapsed": true
   },
   "outputs": [],
   "source": [
    "import re\n",
    "import numpy\n",
    "import random\n",
    "from collections import Counter"
   ]
  },
  {
   "cell_type": "code",
   "execution_count": 14,
   "metadata": {
    "collapsed": false
   },
   "outputs": [],
   "source": [
    "headlines = [\n",
    "    \"PretzelBros, airbnb for people who like pretzels, raises $2 million\",\n",
    "    \"Top 10 reasons why Go is better than whatever language you use.\",\n",
    "    \"Why working at apple stole my soul (I still love it though)\",\n",
    "    \"80 things I think you should do immediately if you use python.\",\n",
    "    \"Show HN: carjack.me -- Uber meets GTA\"\n",
    "]"
   ]
  },
  {
   "cell_type": "code",
   "execution_count": 26,
   "metadata": {
    "collapsed": false
   },
   "outputs": [
    {
     "data": {
      "text/html": [
       "<div>\n",
       "<table border=\"1\" class=\"dataframe\">\n",
       "  <thead>\n",
       "    <tr style=\"text-align: right;\">\n",
       "      <th></th>\n",
       "      <th>if</th>\n",
       "      <th>working</th>\n",
       "      <th>10</th>\n",
       "      <th>soul</th>\n",
       "      <th>airbnb</th>\n",
       "      <th>I</th>\n",
       "      <th>at</th>\n",
       "      <th>reasons</th>\n",
       "      <th>better</th>\n",
       "      <th>it</th>\n",
       "      <th>...</th>\n",
       "      <th>Show</th>\n",
       "      <th>than</th>\n",
       "      <th>80</th>\n",
       "      <th>Uber</th>\n",
       "      <th>HN:</th>\n",
       "      <th>should</th>\n",
       "      <th>is</th>\n",
       "      <th>Top</th>\n",
       "      <th>you</th>\n",
       "      <th>think</th>\n",
       "    </tr>\n",
       "  </thead>\n",
       "  <tbody>\n",
       "    <tr>\n",
       "      <th>0</th>\n",
       "      <td>0</td>\n",
       "      <td>0</td>\n",
       "      <td>0</td>\n",
       "      <td>0</td>\n",
       "      <td>0</td>\n",
       "      <td>0</td>\n",
       "      <td>0</td>\n",
       "      <td>0</td>\n",
       "      <td>0</td>\n",
       "      <td>0</td>\n",
       "      <td>...</td>\n",
       "      <td>0</td>\n",
       "      <td>0</td>\n",
       "      <td>0</td>\n",
       "      <td>0</td>\n",
       "      <td>0</td>\n",
       "      <td>0</td>\n",
       "      <td>0</td>\n",
       "      <td>0</td>\n",
       "      <td>0</td>\n",
       "      <td>0</td>\n",
       "    </tr>\n",
       "    <tr>\n",
       "      <th>1</th>\n",
       "      <td>0</td>\n",
       "      <td>0</td>\n",
       "      <td>0</td>\n",
       "      <td>0</td>\n",
       "      <td>0</td>\n",
       "      <td>0</td>\n",
       "      <td>0</td>\n",
       "      <td>0</td>\n",
       "      <td>0</td>\n",
       "      <td>0</td>\n",
       "      <td>...</td>\n",
       "      <td>0</td>\n",
       "      <td>0</td>\n",
       "      <td>0</td>\n",
       "      <td>0</td>\n",
       "      <td>0</td>\n",
       "      <td>0</td>\n",
       "      <td>0</td>\n",
       "      <td>0</td>\n",
       "      <td>0</td>\n",
       "      <td>0</td>\n",
       "    </tr>\n",
       "    <tr>\n",
       "      <th>2</th>\n",
       "      <td>0</td>\n",
       "      <td>0</td>\n",
       "      <td>0</td>\n",
       "      <td>0</td>\n",
       "      <td>0</td>\n",
       "      <td>1</td>\n",
       "      <td>0</td>\n",
       "      <td>0</td>\n",
       "      <td>0</td>\n",
       "      <td>0</td>\n",
       "      <td>...</td>\n",
       "      <td>0</td>\n",
       "      <td>0</td>\n",
       "      <td>0</td>\n",
       "      <td>0</td>\n",
       "      <td>0</td>\n",
       "      <td>0</td>\n",
       "      <td>0</td>\n",
       "      <td>0</td>\n",
       "      <td>0</td>\n",
       "      <td>0</td>\n",
       "    </tr>\n",
       "    <tr>\n",
       "      <th>3</th>\n",
       "      <td>0</td>\n",
       "      <td>0</td>\n",
       "      <td>0</td>\n",
       "      <td>0</td>\n",
       "      <td>0</td>\n",
       "      <td>1</td>\n",
       "      <td>0</td>\n",
       "      <td>0</td>\n",
       "      <td>0</td>\n",
       "      <td>0</td>\n",
       "      <td>...</td>\n",
       "      <td>0</td>\n",
       "      <td>0</td>\n",
       "      <td>0</td>\n",
       "      <td>0</td>\n",
       "      <td>0</td>\n",
       "      <td>0</td>\n",
       "      <td>0</td>\n",
       "      <td>0</td>\n",
       "      <td>0</td>\n",
       "      <td>0</td>\n",
       "    </tr>\n",
       "    <tr>\n",
       "      <th>4</th>\n",
       "      <td>0</td>\n",
       "      <td>0</td>\n",
       "      <td>0</td>\n",
       "      <td>0</td>\n",
       "      <td>0</td>\n",
       "      <td>0</td>\n",
       "      <td>0</td>\n",
       "      <td>0</td>\n",
       "      <td>0</td>\n",
       "      <td>0</td>\n",
       "      <td>...</td>\n",
       "      <td>0</td>\n",
       "      <td>0</td>\n",
       "      <td>0</td>\n",
       "      <td>0</td>\n",
       "      <td>0</td>\n",
       "      <td>0</td>\n",
       "      <td>0</td>\n",
       "      <td>0</td>\n",
       "      <td>0</td>\n",
       "      <td>0</td>\n",
       "    </tr>\n",
       "  </tbody>\n",
       "</table>\n",
       "<p>5 rows × 51 columns</p>\n",
       "</div>"
      ],
      "text/plain": [
       "   if  working  10  soul  airbnb  I  at  reasons  better  it  ...    Show  \\\n",
       "0   0        0   0     0       0  0   0        0       0   0  ...       0   \n",
       "1   0        0   0     0       0  0   0        0       0   0  ...       0   \n",
       "2   0        0   0     0       0  1   0        0       0   0  ...       0   \n",
       "3   0        0   0     0       0  1   0        0       0   0  ...       0   \n",
       "4   0        0   0     0       0  0   0        0       0   0  ...       0   \n",
       "\n",
       "   than  80  Uber  HN:  should  is  Top  you  think  \n",
       "0     0   0     0    0       0   0    0    0      0  \n",
       "1     0   0     0    0       0   0    0    0      0  \n",
       "2     0   0     0    0       0   0    0    0      0  \n",
       "3     0   0     0    0       0   0    0    0      0  \n",
       "4     0   0     0    0       0   0    0    0      0  \n",
       "\n",
       "[5 rows x 51 columns]"
      ]
     },
     "execution_count": 26,
     "metadata": {},
     "output_type": "execute_result"
    }
   ],
   "source": [
    "unique_words = list(set(\" \".join(headlines).split(\" \")))\n",
    "def make_matrix(headlines, vocab):\n",
    "    matrix = []\n",
    "    for headline in headlines:\n",
    "        counter = Counter(headline)\n",
    "        row = [counter.get(w, 0) for w in vocab]\n",
    "        matrix.append(row)\n",
    "    df = pd.DataFrame(matrix)\n",
    "    df.columns = unique_words\n",
    "    return df\n",
    "a = make_matrix(headlines, unique_words)\n",
    "a"
   ]
  },
  {
   "cell_type": "code",
   "execution_count": 27,
   "metadata": {
    "collapsed": false
   },
   "outputs": [
    {
     "name": "stdout",
     "output_type": "stream",
     "text": [
      "   if  working  2  10  carjackme  pretzels  soul  airbnb  at  go  ...    \\\n",
      "0   0        0  1   0          0         0     0       0   0   0  ...     \n",
      "1   0        0  0   0          0         0     0       0   0   0  ...     \n",
      "2   0        0  0   0          0         0     0       0   0   0  ...     \n",
      "3   0        0  0   0          0         0     0       0   0   0  ...     \n",
      "4   0        0  0   0          0         0     0       0   0   0  ...     \n",
      "\n",
      "   raises  whatever  top  stole  than  80  should  is  you  think  \n",
      "0       0         0    0      0     0   0       0   0    0      0  \n",
      "1       0         0    0      0     0   0       0   0    0      0  \n",
      "2       0         0    0      0     0   0       0   0    0      0  \n",
      "3       0         0    0      0     0   0       0   0    0      0  \n",
      "4       0         0    0      0     0   0       0   0    0      0  \n",
      "\n",
      "[5 rows x 47 columns]\n"
     ]
    }
   ],
   "source": [
    "new_headlines = [re.sub(r'[^\\w\\s\\d]','',h.lower()) for h in headlines]\n",
    "new_headlines = [re.sub(\"\\s+\", \" \", h) for h in new_headlines]\n",
    "unique_words = list(set(\" \".join(new_headlines).split(\" \")))\n",
    "print(make_matrix(new_headlines, unique_words))"
   ]
  },
  {
   "cell_type": "code",
   "execution_count": 28,
   "metadata": {
    "collapsed": false
   },
   "outputs": [
    {
     "name": "stdout",
     "output_type": "stream",
     "text": [
      "   working  2  10  carjackme  pretzels  soul  airbnb  reasons  better  \\\n",
      "0        0  1   0          0         0     0       0        0       0   \n",
      "1        0  0   0          0         0     0       0        0       0   \n",
      "2        0  0   0          0         0     0       0        0       0   \n",
      "3        0  0   0          0         0     0       0        0       0   \n",
      "4        0  0   0          0         0     0       0        0       0   \n",
      "\n",
      "   pretzelbros  ...    love  language  immediately  million  uber  gta  \\\n",
      "0            0  ...       0         0            0        0     0    0   \n",
      "1            0  ...       0         0            0        0     0    0   \n",
      "2            0  ...       0         0            0        0     0    0   \n",
      "3            0  ...       0         0            0        0     0    0   \n",
      "4            0  ...       0         0            0        0     0    0   \n",
      "\n",
      "   raises  stole  80  think  \n",
      "0       0      0   0      0  \n",
      "1       0      0   0      0  \n",
      "2       0      0   0      0  \n",
      "3       0      0   0      0  \n",
      "4       0      0   0      0  \n",
      "\n",
      "[5 rows x 28 columns]\n"
     ]
    }
   ],
   "source": [
    "with open(\"../data/stop_words.txt\", 'r') as f:\n",
    "    stopwords = f.read().split(\"\\n\")\n",
    "\n",
    "stopwords = [re.sub(r'[^\\w\\s\\d]','',s.lower()) for s in stopwords]\n",
    "unique_words = list(set(\" \".join(new_headlines).split(\" \")))\n",
    "unique_words = [w for w in unique_words if w not in stopwords]\n",
    "print(make_matrix(new_headlines, unique_words))"
   ]
  },
  {
   "cell_type": "code",
   "execution_count": 31,
   "metadata": {
    "collapsed": false
   },
   "outputs": [
    {
     "name": "stdout",
     "output_type": "stream",
     "text": [
      "[[0 0 1 0 0 0 0 0 0 0 1 0 0 1 1 1 1 0 1 0 0 0 0 0 0 0 0]\n",
      " [1 0 0 0 1 0 0 0 0 1 0 0 0 0 0 0 0 0 0 1 0 0 0 0 0 1 0]\n",
      " [0 0 0 1 0 0 0 0 0 0 0 1 0 0 0 0 0 0 0 0 1 1 0 0 0 0 1]\n",
      " [0 1 0 0 0 0 0 0 1 0 0 0 0 0 0 0 0 1 0 0 0 0 1 1 0 1 0]\n",
      " [0 0 0 0 0 1 1 1 0 0 0 0 1 0 0 0 0 0 0 0 0 0 0 0 1 0 0]]\n"
     ]
    }
   ],
   "source": [
    "from sklearn.feature_extraction.text import CountVectorizer\n",
    "\n",
    "vectorizer = CountVectorizer(lowercase=True, stop_words=\"english\")\n",
    "matrix = vectorizer.fit_transform(headlines)\n",
    "print(matrix.todense())"
   ]
  },
  {
   "cell_type": "code",
   "execution_count": 50,
   "metadata": {
    "collapsed": true
   },
   "outputs": [],
   "source": [
    "submissons = pd.read_csv(\"../data/pre_process_hn.csv\", encoding = \"ISO-8859-1\")"
   ]
  },
  {
   "cell_type": "code",
   "execution_count": 51,
   "metadata": {
    "collapsed": false
   },
   "outputs": [
    {
     "name": "stdout",
     "output_type": "stream",
     "text": [
      "(11004, 13712)\n"
     ]
    }
   ],
   "source": [
    "# submissons['full_test'] = submissons['headline'] + \" \" + submissons['url']\n",
    "full_matrix = vectorizer.fit_transform(submissons['headline'])\n",
    "print(full_matrix.shape)"
   ]
  },
  {
   "cell_type": "code",
   "execution_count": 52,
   "metadata": {
    "collapsed": true
   },
   "outputs": [],
   "source": [
    "from sklearn.feature_selection import SelectKBest\n",
    "from sklearn.feature_selection import chi2"
   ]
  },
  {
   "cell_type": "code",
   "execution_count": 54,
   "metadata": {
    "collapsed": false
   },
   "outputs": [
    {
     "data": {
      "text/plain": [
       "<11004x1000 sparse matrix of type '<class 'numpy.int64'>'\n",
       "\twith 2147 stored elements in Compressed Sparse Row format>"
      ]
     },
     "execution_count": 54,
     "metadata": {},
     "output_type": "execute_result"
    }
   ],
   "source": [
    "col = submissons[\"upvotes\"].copy(deep=True)\n",
    "col_mean = col.mean()\n",
    "col[col < col_mean] = 0\n",
    "col[(col > 0) & (col > col_mean)] = 1\n",
    "\n",
    "selector = SelectKBest(chi2, k=1000)\n",
    "selector.fit(full_matrix, col)\n",
    "top_words = selector.get_support().nonzero()\n",
    "\n",
    "chi_matrix = full_matrix[:, top_words[0]]\n",
    "chi_matrix"
   ]
  },
  {
   "cell_type": "code",
   "execution_count": 65,
   "metadata": {
    "collapsed": false
   },
   "outputs": [
    {
     "data": {
      "text/plain": [
       "array([[ 44.,   8.,   0., ...,   8.,   0.,   7.],\n",
       "       [ 48.,   5.,   0., ...,   5.,   2.,   0.],\n",
       "       [ 23.,   3.,   0., ...,   3.,   0.,   3.],\n",
       "       ..., \n",
       "       [ 28.,   3.,   0., ...,   3.,   0.,   1.],\n",
       "       [ 25.,   3.,   0., ...,   3.,   0.,   1.],\n",
       "       [ 42.,   7.,   0., ...,   7.,   4.,   7.]])"
      ]
     },
     "execution_count": 65,
     "metadata": {},
     "output_type": "execute_result"
    }
   ],
   "source": [
    "transform_function = [\n",
    "    lambda x: len(x),\n",
    "    lambda x: x.count(\" \"),\n",
    "    lambda x: x.count(\".\"),\n",
    "    lambda x: x.count(\"!\"),\n",
    "    lambda x: x.count(\"?\"),\n",
    "    lambda x: x.count(\" \") / (x.count(\".\") + 1),\n",
    "    lambda x: len(re.findall(\"\\d\", x)),\n",
    "    lambda x: len(re.findall(\"[A-Z]\", x)),\n",
    "]\n",
    "\n",
    "columns = []\n",
    "for func in transform_function:\n",
    "    columns.append(submissons[\"headline\"].apply(func))\n",
    "    \n",
    "meta = numpy.asarray(columns).T\n",
    "meta"
   ]
  },
  {
   "cell_type": "code",
   "execution_count": 66,
   "metadata": {
    "collapsed": false
   },
   "outputs": [
    {
     "data": {
      "text/plain": [
       "[0        2015\n",
       " 1        2015\n",
       " 2        2015\n",
       " 3        2015\n",
       " 4        2015\n",
       " 5        2015\n",
       " 6        2015\n",
       " 7        2015\n",
       " 8        2015\n",
       " 9        2015\n",
       " 10       2015\n",
       " 11       2015\n",
       " 12       2015\n",
       " 13       2015\n",
       " 14       2015\n",
       " 15       2015\n",
       " 16       2015\n",
       " 17       2015\n",
       " 18       2015\n",
       " 19       2015\n",
       " 20       2015\n",
       " 21       2015\n",
       " 22       2015\n",
       " 23       2015\n",
       " 24       2015\n",
       " 25       2015\n",
       " 26       2015\n",
       " 27       2015\n",
       " 28       2015\n",
       " 29       2015\n",
       "          ... \n",
       " 10974    2015\n",
       " 10975    2015\n",
       " 10976    2015\n",
       " 10977    2015\n",
       " 10978    2015\n",
       " 10979    2015\n",
       " 10980    2015\n",
       " 10981    2015\n",
       " 10982    2015\n",
       " 10983    2015\n",
       " 10984    2015\n",
       " 10985    2015\n",
       " 10986    2015\n",
       " 10987    2015\n",
       " 10988    2015\n",
       " 10989    2015\n",
       " 10990    2015\n",
       " 10991    2015\n",
       " 10992    2015\n",
       " 10993    2015\n",
       " 10994    2015\n",
       " 10995    2015\n",
       " 10996    2015\n",
       " 10997    2015\n",
       " 10998    2015\n",
       " 10999    2015\n",
       " 11000    2015\n",
       " 11001    2015\n",
       " 11002    2015\n",
       " 11003    2015\n",
       " Name: submission_time, dtype: int64, 0        2\n",
       " 1        2\n",
       " 2        2\n",
       " 3        2\n",
       " 4        2\n",
       " 5        2\n",
       " 6        2\n",
       " 7        2\n",
       " 8        2\n",
       " 9        2\n",
       " 10       2\n",
       " 11       2\n",
       " 12       2\n",
       " 13       2\n",
       " 14       2\n",
       " 15       2\n",
       " 16       2\n",
       " 17       2\n",
       " 18       2\n",
       " 19       2\n",
       " 20       2\n",
       " 21       2\n",
       " 22       2\n",
       " 23       2\n",
       " 24       2\n",
       " 25       2\n",
       " 26       2\n",
       " 27       2\n",
       " 28       2\n",
       " 29       2\n",
       "         ..\n",
       " 10974    3\n",
       " 10975    3\n",
       " 10976    3\n",
       " 10977    3\n",
       " 10978    3\n",
       " 10979    3\n",
       " 10980    3\n",
       " 10981    3\n",
       " 10982    3\n",
       " 10983    3\n",
       " 10984    3\n",
       " 10985    3\n",
       " 10986    3\n",
       " 10987    3\n",
       " 10988    3\n",
       " 10989    3\n",
       " 10990    3\n",
       " 10991    3\n",
       " 10992    3\n",
       " 10993    3\n",
       " 10994    3\n",
       " 10995    3\n",
       " 10996    3\n",
       " 10997    3\n",
       " 10998    3\n",
       " 10999    3\n",
       " 11000    3\n",
       " 11001    3\n",
       " 11002    3\n",
       " 11003    3\n",
       " Name: submission_time, dtype: int64, 0        20\n",
       " 1        20\n",
       " 2        20\n",
       " 3        20\n",
       " 4        20\n",
       " 5        20\n",
       " 6        20\n",
       " 7        20\n",
       " 8        20\n",
       " 9        20\n",
       " 10       20\n",
       " 11       20\n",
       " 12       20\n",
       " 13       20\n",
       " 14       20\n",
       " 15       20\n",
       " 16       20\n",
       " 17       20\n",
       " 18       20\n",
       " 19       20\n",
       " 20       20\n",
       " 21       20\n",
       " 22       20\n",
       " 23       20\n",
       " 24       20\n",
       " 25       20\n",
       " 26       20\n",
       " 27       20\n",
       " 28       20\n",
       " 29       20\n",
       "          ..\n",
       " 10974     6\n",
       " 10975     6\n",
       " 10976     6\n",
       " 10977     6\n",
       " 10978     6\n",
       " 10979     6\n",
       " 10980     6\n",
       " 10981     6\n",
       " 10982     6\n",
       " 10983     6\n",
       " 10984     6\n",
       " 10985     6\n",
       " 10986     6\n",
       " 10987     6\n",
       " 10988     6\n",
       " 10989     6\n",
       " 10990     6\n",
       " 10991     6\n",
       " 10992     6\n",
       " 10993     6\n",
       " 10994     6\n",
       " 10995     6\n",
       " 10996     6\n",
       " 10997     6\n",
       " 10998     6\n",
       " 10999     6\n",
       " 11000     6\n",
       " 11001     6\n",
       " 11002     6\n",
       " 11003     6\n",
       " Name: submission_time, dtype: int64, 0        11\n",
       " 1        11\n",
       " 2        11\n",
       " 3        11\n",
       " 4        11\n",
       " 5        11\n",
       " 6        11\n",
       " 7        11\n",
       " 8        11\n",
       " 9        12\n",
       " 10       12\n",
       " 11       12\n",
       " 12       12\n",
       " 13       12\n",
       " 14       12\n",
       " 15       12\n",
       " 16       12\n",
       " 17       12\n",
       " 18       12\n",
       " 19       12\n",
       " 20       12\n",
       " 21       12\n",
       " 22       12\n",
       " 23       12\n",
       " 24       12\n",
       " 25       12\n",
       " 26       12\n",
       " 27       12\n",
       " 28       12\n",
       " 29       12\n",
       "          ..\n",
       " 10974    17\n",
       " 10975    17\n",
       " 10976    18\n",
       " 10977    18\n",
       " 10978    18\n",
       " 10979    18\n",
       " 10980    18\n",
       " 10981    18\n",
       " 10982    18\n",
       " 10983    18\n",
       " 10984    18\n",
       " 10985    18\n",
       " 10986    18\n",
       " 10987    18\n",
       " 10988    18\n",
       " 10989    18\n",
       " 10990    18\n",
       " 10991    18\n",
       " 10992    18\n",
       " 10993    18\n",
       " 10994    18\n",
       " 10995    18\n",
       " 10996    18\n",
       " 10997    18\n",
       " 10998    18\n",
       " 10999    18\n",
       " 11000    18\n",
       " 11001    18\n",
       " 11002    18\n",
       " 11003    18\n",
       " Name: submission_time, dtype: int64, 0        29\n",
       " 1        34\n",
       " 2        35\n",
       " 3        36\n",
       " 4        41\n",
       " 5        43\n",
       " 6        43\n",
       " 7        48\n",
       " 8        59\n",
       " 9         0\n",
       " 10        0\n",
       " 11        0\n",
       " 12        1\n",
       " 13        2\n",
       " 14        5\n",
       " 15        7\n",
       " 16        9\n",
       " 17       10\n",
       " 18       16\n",
       " 19       19\n",
       " 20       19\n",
       " 21       23\n",
       " 22       23\n",
       " 23       25\n",
       " 24       26\n",
       " 25       27\n",
       " 26       28\n",
       " 27       28\n",
       " 28       29\n",
       " 29       36\n",
       "          ..\n",
       " 10974    59\n",
       " 10975    59\n",
       " 10976     0\n",
       " 10977     1\n",
       " 10978     3\n",
       " 10979     4\n",
       " 10980     4\n",
       " 10981     6\n",
       " 10982     6\n",
       " 10983     9\n",
       " 10984    10\n",
       " 10985    10\n",
       " 10986    10\n",
       " 10987    12\n",
       " 10988    12\n",
       " 10989    12\n",
       " 10990    14\n",
       " 10991    15\n",
       " 10992    16\n",
       " 10993    17\n",
       " 10994    18\n",
       " 10995    19\n",
       " 10996    20\n",
       " 10997    22\n",
       " 10998    22\n",
       " 10999    22\n",
       " 11000    23\n",
       " 11001    27\n",
       " 11002    29\n",
       " 11003    32\n",
       " Name: submission_time, dtype: int64]"
      ]
     },
     "execution_count": 66,
     "metadata": {},
     "output_type": "execute_result"
    }
   ],
   "source": [
    "columns = []\n",
    "\n",
    "submissons_dates = pd.to_datetime(submissons['submission_time'])\n",
    "\n",
    "transform_function = [\n",
    "    lambda x: x.year,\n",
    "    lambda x: x.month,\n",
    "    lambda x: x.day,\n",
    "    lambda x: x.hour,\n",
    "    lambda x: x.minute,\n",
    "]\n",
    "\n",
    "for func in transform_function:\n",
    "    columns.append(submissons_dates.apply(func))\n",
    "    \n",
    "non_nlp = numpy.asarray(columns).T\n",
    "\n",
    "columns\n",
    "# features = numpy.hstack([non_nlp, meta, chi_matrix.todense()])"
   ]
  },
  {
   "cell_type": "code",
   "execution_count": 59,
   "metadata": {
    "collapsed": true
   },
   "outputs": [],
   "source": [
    "from sklearn.linear_model import Ridge\n",
    "\n",
    "train_rows = 7500\n",
    "random.seed()\n",
    "\n",
    "indices = list(range(features.shape[0]))\n",
    "random.shuffle(indices)\n",
    "\n",
    "train = features[indices[:train_rows], :]\n",
    "test = features[indices[train_rows:], :]\n",
    "train_upvotes = submissons['upvotes'].iloc[indices[:train_rows]]\n",
    "test_upvotes = submissons['upvotes'].iloc[indices[train_rows:]]\n",
    "train = numpy.nan_to_num(train)\n",
    "\n",
    "reg = Ridge(alpha = 0.1)\n",
    "reg.fit(train, train_upvotes)\n",
    "predictions = reg.predict(test)"
   ]
  },
  {
   "cell_type": "code",
   "execution_count": 60,
   "metadata": {
    "collapsed": false
   },
   "outputs": [
    {
     "name": "stdout",
     "output_type": "stream",
     "text": [
      "15.7181298388\n",
      "17.0694468878\n"
     ]
    }
   ],
   "source": [
    "print(sum(abs(predictions - test_upvotes)) / len(predictions))\n",
    "average_upvotes = sum(test_upvotes)/len(test_upvotes)\n",
    "print(sum(abs(average_upvotes - test_upvotes)) / len(predictions))"
   ]
  },
  {
   "cell_type": "code",
   "execution_count": 63,
   "metadata": {
    "collapsed": false
   },
   "outputs": [
    {
     "data": {
      "text/plain": [
       "3504"
      ]
     },
     "execution_count": 63,
     "metadata": {},
     "output_type": "execute_result"
    }
   ],
   "source": [
    "len(predictions)"
   ]
  },
  {
   "cell_type": "code",
   "execution_count": null,
   "metadata": {
    "collapsed": true
   },
   "outputs": [],
   "source": []
  }
 ],
 "metadata": {
  "anaconda-cloud": {},
  "kernelspec": {
   "display_name": "Python [Root]",
   "language": "python",
   "name": "Python [Root]"
  },
  "language_info": {
   "codemirror_mode": {
    "name": "ipython",
    "version": 3
   },
   "file_extension": ".py",
   "mimetype": "text/x-python",
   "name": "python",
   "nbconvert_exporter": "python",
   "pygments_lexer": "ipython3",
   "version": "3.5.2"
  }
 },
 "nbformat": 4,
 "nbformat_minor": 0
}
